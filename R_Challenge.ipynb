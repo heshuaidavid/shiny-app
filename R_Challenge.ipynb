{
 "cells": [
  {
   "cell_type": "code",
   "execution_count": 216,
   "metadata": {
    "collapsed": false
   },
   "outputs": [],
   "source": [
    "# R_challenge\n",
    "# merge all the data into one data table\n",
    "import os\n",
    "import csv\n",
    "import numpy as np\n",
    "import pandas as pd\n",
    "# import county list\n",
    "directory = \"./all_counties\"\n",
    "f1 = open(directory + \"/county_name.txt\",\"r\")\n",
    "rawdata = f1.readlines()\n",
    "f1.close()\n",
    "\n",
    "county_str = map(lambda x: x.splitlines(), rawdata)\n",
    "county_str = [county_str[i][0] for i in range(len(county_str))]"
   ]
  },
  {
   "cell_type": "code",
   "execution_count": 217,
   "metadata": {
    "collapsed": false
   },
   "outputs": [],
   "source": [
    "# define a standard time zone:\n",
    "f = open(directory+\"/anderson.csv\",\"r\")\n",
    "ff = list(csv.reader(f))\n",
    "labels=['Date','owop','owgp','gwgp','gwop']\n",
    "SD = pd.DataFrame.from_records(ff[8:len(ff)-1],columns=labels)\n",
    "SD.Date=pd.to_datetime(SD.Date)\n",
    "SD = pd.DataFrame(SD.Date)\n",
    "SD.columns=['SD'] # SD - standard date format\n",
    "SD.set_index(SD.SD, inplace=True)"
   ]
  },
  {
   "cell_type": "code",
   "execution_count": 218,
   "metadata": {
    "collapsed": false
   },
   "outputs": [],
   "source": [
    "directory1 = \"./pd_merged\"\n",
    "for filename in os.listdir(directory):\n",
    "    if filename.endswith(\".csv\"):\n",
    "        county_name = str(filename.split(\".\")[0])\n",
    "        if county_name in county_str:\n",
    "            county_str = filter(lambda x: x != county_name, county_str) # keep track of the remaining counties\n",
    "            with open(directory + \"/\" + filename) as ff:\n",
    "                ffreader = list(csv.reader(ff))\n",
    "            county_name_1 = str(ffreader[4][0].split(\": \")[1])\n",
    "            if county_name.upper() != county_name_1:\n",
    "                notc += 1\n",
    "                print \"inconsistent county name between filename and content!\"\n",
    "            else:\n",
    "                df = pd.DataFrame.from_records(ffreader[8:len(ffreader)-1],columns=labels)\n",
    "                df.Date = pd.to_datetime(df.Date)\n",
    "                df.owgp = pd.to_numeric(df.owgp)\n",
    "                df.owop = pd.to_numeric(df.owop)\n",
    "                df.gwgp = pd.to_numeric(df.gwgp)\n",
    "                df.gwop = pd.to_numeric(df.gwop)\n",
    "                df.set_index(df.Date, inplace=True)\n",
    "                pd_df = pd.concat([SD,df],axis=1,join='outer')\n",
    "                pd_df.drop('Date',axis=1,inplace=True)\n",
    "                pd_df.fillna(1.0,inplace=True)\n",
    "                pd_df.replace(0.0,1.0,inplace=True)\n",
    "                pd_df['county']=county_name.upper()\n",
    "                pd_df.to_csv(directory1+\"/pd_\"+county_name+\".csv\",index=False)"
   ]
  },
  {
   "cell_type": "code",
   "execution_count": 219,
   "metadata": {
    "collapsed": false
   },
   "outputs": [],
   "source": [
    "# merged data together\n",
    "df1 = pd.read_csv(directory1+'/pd_andrews.csv')\n",
    "for filename in os.listdir(directory1):\n",
    "    if filename != 'pd_andrews.csv':\n",
    "        df2 = pd.read_csv(directory1+'/'+filename)\n",
    "        df1 = pd.concat([df1,df2],axis=0)\n",
    "\n",
    "df1.to_csv(\"merged.csv\",index=False)"
   ]
  }
 ],
 "metadata": {
  "kernelspec": {
   "display_name": "Python 2",
   "language": "python",
   "name": "python2"
  },
  "language_info": {
   "codemirror_mode": {
    "name": "ipython",
    "version": 2
   },
   "file_extension": ".py",
   "mimetype": "text/x-python",
   "name": "python",
   "nbconvert_exporter": "python",
   "pygments_lexer": "ipython2",
   "version": "2.7.13"
  }
 },
 "nbformat": 4,
 "nbformat_minor": 2
}
